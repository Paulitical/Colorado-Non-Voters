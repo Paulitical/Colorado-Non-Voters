{
 "cells": [
  {
   "cell_type": "code",
   "execution_count": 1,
   "metadata": {},
   "outputs": [
    {
     "name": "stdout",
     "output_type": "stream",
     "text": [
      "Couldn't import dot_parser, loading of dot files will not be possible.\n"
     ]
    },
    {
     "name": "stderr",
     "output_type": "stream",
     "text": [
      "/Users/pauldcyr/anaconda3/lib/python3.6/site-packages/h5py/__init__.py:36: FutureWarning: Conversion of the second argument of issubdtype from `float` to `np.floating` is deprecated. In future, it will be treated as `np.float64 == np.dtype(float).type`.\n",
      "  from ._conv import register_converters as _register_converters\n"
     ]
    }
   ],
   "source": [
    "import numpy as np\n",
    "import pandas as pd\n",
    "import matplotlib.pyplot as plt\n",
    "import pymc3 as pm\n",
    "from scipy.stats import beta\n",
    "from scipy.stats import binom\n",
    "import seaborn\n",
    "\n",
    "%matplotlib inline"
   ]
  },
  {
   "cell_type": "code",
   "execution_count": 2,
   "metadata": {},
   "outputs": [],
   "source": [
    "# read in data\n",
    "df = pd.read_csv(\"../data/Voter_Reg_Ballot_Vote.csv\")"
   ]
  },
  {
   "cell_type": "code",
   "execution_count": 3,
   "metadata": {},
   "outputs": [
    {
     "data": {
      "text/html": [
       "<div>\n",
       "<style scoped>\n",
       "    .dataframe tbody tr th:only-of-type {\n",
       "        vertical-align: middle;\n",
       "    }\n",
       "\n",
       "    .dataframe tbody tr th {\n",
       "        vertical-align: top;\n",
       "    }\n",
       "\n",
       "    .dataframe thead th {\n",
       "        text-align: right;\n",
       "    }\n",
       "</style>\n",
       "<table border=\"1\" class=\"dataframe\">\n",
       "  <thead>\n",
       "    <tr style=\"text-align: right;\">\n",
       "      <th></th>\n",
       "      <th>COUNTY</th>\n",
       "      <th>TOTAL_REG</th>\n",
       "      <th>DEM_REG</th>\n",
       "      <th>REP_REG</th>\n",
       "      <th>OTH_REG</th>\n",
       "      <th>TOTAL_BALLOTS</th>\n",
       "      <th>DEM_BALLOTS</th>\n",
       "      <th>REP_BALLOTS</th>\n",
       "      <th>OTHER_BALLOTS</th>\n",
       "      <th>DEM_VOTES</th>\n",
       "      <th>...</th>\n",
       "      <th>OTHER_VOTE_OTHER</th>\n",
       "      <th>D_vote_D</th>\n",
       "      <th>R_vote_D</th>\n",
       "      <th>O_vote_D</th>\n",
       "      <th>D_vote_R</th>\n",
       "      <th>R_vote_R</th>\n",
       "      <th>O_vote_R</th>\n",
       "      <th>D_vote_O</th>\n",
       "      <th>R_vote_O</th>\n",
       "      <th>O_vote_O</th>\n",
       "    </tr>\n",
       "  </thead>\n",
       "  <tbody>\n",
       "    <tr>\n",
       "      <th>0</th>\n",
       "      <td>Adams</td>\n",
       "      <td>273004</td>\n",
       "      <td>96987</td>\n",
       "      <td>68732</td>\n",
       "      <td>107285</td>\n",
       "      <td>201817</td>\n",
       "      <td>74775</td>\n",
       "      <td>55674</td>\n",
       "      <td>71368</td>\n",
       "      <td>96558</td>\n",
       "      <td>...</td>\n",
       "      <td>25177</td>\n",
       "      <td>74775</td>\n",
       "      <td>0</td>\n",
       "      <td>21783</td>\n",
       "      <td>0</td>\n",
       "      <td>55674</td>\n",
       "      <td>24408</td>\n",
       "      <td>0</td>\n",
       "      <td>0</td>\n",
       "      <td>25177</td>\n",
       "    </tr>\n",
       "    <tr>\n",
       "      <th>1</th>\n",
       "      <td>Alamosa</td>\n",
       "      <td>10047</td>\n",
       "      <td>3774</td>\n",
       "      <td>2881</td>\n",
       "      <td>3392</td>\n",
       "      <td>7189</td>\n",
       "      <td>2873</td>\n",
       "      <td>2348</td>\n",
       "      <td>1968</td>\n",
       "      <td>3189</td>\n",
       "      <td>...</td>\n",
       "      <td>954</td>\n",
       "      <td>2873</td>\n",
       "      <td>0</td>\n",
       "      <td>316</td>\n",
       "      <td>0</td>\n",
       "      <td>2348</td>\n",
       "      <td>698</td>\n",
       "      <td>0</td>\n",
       "      <td>0</td>\n",
       "      <td>954</td>\n",
       "    </tr>\n",
       "    <tr>\n",
       "      <th>2</th>\n",
       "      <td>Arapahoe</td>\n",
       "      <td>420997</td>\n",
       "      <td>142142</td>\n",
       "      <td>120505</td>\n",
       "      <td>158350</td>\n",
       "      <td>314424</td>\n",
       "      <td>110726</td>\n",
       "      <td>98873</td>\n",
       "      <td>104825</td>\n",
       "      <td>159885</td>\n",
       "      <td>...</td>\n",
       "      <td>37486</td>\n",
       "      <td>110726</td>\n",
       "      <td>0</td>\n",
       "      <td>49159</td>\n",
       "      <td>0</td>\n",
       "      <td>98873</td>\n",
       "      <td>18180</td>\n",
       "      <td>0</td>\n",
       "      <td>0</td>\n",
       "      <td>37486</td>\n",
       "    </tr>\n",
       "    <tr>\n",
       "      <th>3</th>\n",
       "      <td>Archuleta</td>\n",
       "      <td>10598</td>\n",
       "      <td>2462</td>\n",
       "      <td>4926</td>\n",
       "      <td>3210</td>\n",
       "      <td>7567</td>\n",
       "      <td>1777</td>\n",
       "      <td>3808</td>\n",
       "      <td>1982</td>\n",
       "      <td>2500</td>\n",
       "      <td>...</td>\n",
       "      <td>803</td>\n",
       "      <td>1777</td>\n",
       "      <td>0</td>\n",
       "      <td>723</td>\n",
       "      <td>0</td>\n",
       "      <td>3808</td>\n",
       "      <td>456</td>\n",
       "      <td>0</td>\n",
       "      <td>0</td>\n",
       "      <td>803</td>\n",
       "    </tr>\n",
       "    <tr>\n",
       "      <th>4</th>\n",
       "      <td>Baca</td>\n",
       "      <td>2826</td>\n",
       "      <td>661</td>\n",
       "      <td>1413</td>\n",
       "      <td>752</td>\n",
       "      <td>2223</td>\n",
       "      <td>543</td>\n",
       "      <td>1219</td>\n",
       "      <td>461</td>\n",
       "      <td>283</td>\n",
       "      <td>...</td>\n",
       "      <td>187</td>\n",
       "      <td>283</td>\n",
       "      <td>0</td>\n",
       "      <td>0</td>\n",
       "      <td>260</td>\n",
       "      <td>1219</td>\n",
       "      <td>274</td>\n",
       "      <td>0</td>\n",
       "      <td>0</td>\n",
       "      <td>187</td>\n",
       "    </tr>\n",
       "    <tr>\n",
       "      <th>5</th>\n",
       "      <td>Bent</td>\n",
       "      <td>2935</td>\n",
       "      <td>957</td>\n",
       "      <td>1050</td>\n",
       "      <td>928</td>\n",
       "      <td>2027</td>\n",
       "      <td>679</td>\n",
       "      <td>850</td>\n",
       "      <td>498</td>\n",
       "      <td>590</td>\n",
       "      <td>...</td>\n",
       "      <td>-249</td>\n",
       "      <td>590</td>\n",
       "      <td>0</td>\n",
       "      <td>0</td>\n",
       "      <td>89</td>\n",
       "      <td>850</td>\n",
       "      <td>249</td>\n",
       "      <td>0</td>\n",
       "      <td>0</td>\n",
       "      <td>249</td>\n",
       "    </tr>\n",
       "    <tr>\n",
       "      <th>6</th>\n",
       "      <td>Boulder</td>\n",
       "      <td>262764</td>\n",
       "      <td>112584</td>\n",
       "      <td>45139</td>\n",
       "      <td>105041</td>\n",
       "      <td>193813</td>\n",
       "      <td>90676</td>\n",
       "      <td>34357</td>\n",
       "      <td>68780</td>\n",
       "      <td>132334</td>\n",
       "      <td>...</td>\n",
       "      <td>20083</td>\n",
       "      <td>90676</td>\n",
       "      <td>0</td>\n",
       "      <td>41658</td>\n",
       "      <td>0</td>\n",
       "      <td>34357</td>\n",
       "      <td>7039</td>\n",
       "      <td>0</td>\n",
       "      <td>0</td>\n",
       "      <td>20083</td>\n",
       "    </tr>\n",
       "    <tr>\n",
       "      <th>7</th>\n",
       "      <td>Broomfield</td>\n",
       "      <td>49410</td>\n",
       "      <td>14905</td>\n",
       "      <td>14366</td>\n",
       "      <td>20139</td>\n",
       "      <td>39052</td>\n",
       "      <td>12337</td>\n",
       "      <td>11819</td>\n",
       "      <td>14896</td>\n",
       "      <td>19731</td>\n",
       "      <td>...</td>\n",
       "      <td>4954</td>\n",
       "      <td>12337</td>\n",
       "      <td>0</td>\n",
       "      <td>7394</td>\n",
       "      <td>0</td>\n",
       "      <td>11819</td>\n",
       "      <td>2548</td>\n",
       "      <td>0</td>\n",
       "      <td>0</td>\n",
       "      <td>4954</td>\n",
       "    </tr>\n",
       "    <tr>\n",
       "      <th>8</th>\n",
       "      <td>Chaffee</td>\n",
       "      <td>14715</td>\n",
       "      <td>3912</td>\n",
       "      <td>5216</td>\n",
       "      <td>5587</td>\n",
       "      <td>11688</td>\n",
       "      <td>3314</td>\n",
       "      <td>4374</td>\n",
       "      <td>4000</td>\n",
       "      <td>4888</td>\n",
       "      <td>...</td>\n",
       "      <td>1409</td>\n",
       "      <td>3314</td>\n",
       "      <td>0</td>\n",
       "      <td>1574</td>\n",
       "      <td>0</td>\n",
       "      <td>4374</td>\n",
       "      <td>1017</td>\n",
       "      <td>0</td>\n",
       "      <td>0</td>\n",
       "      <td>1409</td>\n",
       "    </tr>\n",
       "    <tr>\n",
       "      <th>9</th>\n",
       "      <td>Cheyenne</td>\n",
       "      <td>1417</td>\n",
       "      <td>180</td>\n",
       "      <td>898</td>\n",
       "      <td>339</td>\n",
       "      <td>1132</td>\n",
       "      <td>138</td>\n",
       "      <td>770</td>\n",
       "      <td>224</td>\n",
       "      <td>132</td>\n",
       "      <td>...</td>\n",
       "      <td>75</td>\n",
       "      <td>132</td>\n",
       "      <td>0</td>\n",
       "      <td>0</td>\n",
       "      <td>6</td>\n",
       "      <td>770</td>\n",
       "      <td>149</td>\n",
       "      <td>0</td>\n",
       "      <td>0</td>\n",
       "      <td>75</td>\n",
       "    </tr>\n",
       "  </tbody>\n",
       "</table>\n",
       "<p>10 rows × 28 columns</p>\n",
       "</div>"
      ],
      "text/plain": [
       "       COUNTY  TOTAL_REG  DEM_REG  REP_REG  OTH_REG  TOTAL_BALLOTS  \\\n",
       "0       Adams     273004    96987    68732   107285         201817   \n",
       "1     Alamosa      10047     3774     2881     3392           7189   \n",
       "2    Arapahoe     420997   142142   120505   158350         314424   \n",
       "3   Archuleta      10598     2462     4926     3210           7567   \n",
       "4        Baca       2826      661     1413      752           2223   \n",
       "5        Bent       2935      957     1050      928           2027   \n",
       "6     Boulder     262764   112584    45139   105041         193813   \n",
       "7  Broomfield      49410    14905    14366    20139          39052   \n",
       "8     Chaffee      14715     3912     5216     5587          11688   \n",
       "9    Cheyenne       1417      180      898      339           1132   \n",
       "\n",
       "   DEM_BALLOTS  REP_BALLOTS  OTHER_BALLOTS  DEM_VOTES    ...     \\\n",
       "0        74775        55674          71368      96558    ...      \n",
       "1         2873         2348           1968       3189    ...      \n",
       "2       110726        98873         104825     159885    ...      \n",
       "3         1777         3808           1982       2500    ...      \n",
       "4          543         1219            461        283    ...      \n",
       "5          679          850            498        590    ...      \n",
       "6        90676        34357          68780     132334    ...      \n",
       "7        12337        11819          14896      19731    ...      \n",
       "8         3314         4374           4000       4888    ...      \n",
       "9          138          770            224        132    ...      \n",
       "\n",
       "   OTHER_VOTE_OTHER  D_vote_D  R_vote_D  O_vote_D  D_vote_R  R_vote_R  \\\n",
       "0             25177     74775         0     21783         0     55674   \n",
       "1               954      2873         0       316         0      2348   \n",
       "2             37486    110726         0     49159         0     98873   \n",
       "3               803      1777         0       723         0      3808   \n",
       "4               187       283         0         0       260      1219   \n",
       "5              -249       590         0         0        89       850   \n",
       "6             20083     90676         0     41658         0     34357   \n",
       "7              4954     12337         0      7394         0     11819   \n",
       "8              1409      3314         0      1574         0      4374   \n",
       "9                75       132         0         0         6       770   \n",
       "\n",
       "   O_vote_R  D_vote_O  R_vote_O  O_vote_O  \n",
       "0     24408         0         0     25177  \n",
       "1       698         0         0       954  \n",
       "2     18180         0         0     37486  \n",
       "3       456         0         0       803  \n",
       "4       274         0         0       187  \n",
       "5       249         0         0       249  \n",
       "6      7039         0         0     20083  \n",
       "7      2548         0         0      4954  \n",
       "8      1017         0         0      1409  \n",
       "9       149         0         0        75  \n",
       "\n",
       "[10 rows x 28 columns]"
      ]
     },
     "execution_count": 3,
     "metadata": {},
     "output_type": "execute_result"
    }
   ],
   "source": [
    "# look at first 10 rows\n",
    "df.head(10)"
   ]
  },
  {
   "cell_type": "markdown",
   "metadata": {},
   "source": [
    "## Likelihoods "
   ]
  },
  {
   "cell_type": "code",
   "execution_count": 4,
   "metadata": {},
   "outputs": [],
   "source": [
    "# likelihoods for Dems\n",
    "df['vote_D_likelihood'] = df['DEM_VOTES'] / df['TOTAL_BALLOTS']"
   ]
  },
  {
   "cell_type": "code",
   "execution_count": 5,
   "metadata": {},
   "outputs": [],
   "source": [
    "# likelihoods for Reps\n",
    "df['vote_R_likelihood'] = df['REP_VOTES'] / df['TOTAL_BALLOTS']"
   ]
  },
  {
   "cell_type": "code",
   "execution_count": 6,
   "metadata": {},
   "outputs": [],
   "source": [
    "# likelihoods for Other\n",
    "df['vote_O_likelihood'] = df['OTHER_VOTES'] / df['TOTAL_BALLOTS']"
   ]
  },
  {
   "cell_type": "markdown",
   "metadata": {},
   "source": [
    "Set up priors using proportions of votes from the 2012 election"
   ]
  },
  {
   "cell_type": "code",
   "execution_count": 7,
   "metadata": {},
   "outputs": [],
   "source": [
    "# prior for Reg Dem vote Dem\n",
    "df['D_vote_D_prior'] = 0.2784"
   ]
  },
  {
   "cell_type": "code",
   "execution_count": 8,
   "metadata": {},
   "outputs": [],
   "source": [
    "# prior for Reg Rep vote Dem\n",
    "df['R_vote_D_prior'] = 0.0192"
   ]
  },
  {
   "cell_type": "code",
   "execution_count": 9,
   "metadata": {},
   "outputs": [],
   "source": [
    "# prior for Reg Other vote Dem\n",
    "df['O_vote_D_prior'] = 0.1848"
   ]
  },
  {
   "cell_type": "code",
   "execution_count": 10,
   "metadata": {},
   "outputs": [],
   "source": [
    "# prior for Reg Dem vote Rep\n",
    "df['D_vote_R_prior'] = 0.0288"
   ]
  },
  {
   "cell_type": "code",
   "execution_count": 11,
   "metadata": {},
   "outputs": [],
   "source": [
    "# prior for Reg Rep vote Rep\n",
    "df['R_vote_R_prior'] = 0.2112"
   ]
  },
  {
   "cell_type": "code",
   "execution_count": 12,
   "metadata": {},
   "outputs": [],
   "source": [
    "# prior for Reg Other vote Rep\n",
    "df['O_vote_R_prior'] = 0.1980"
   ]
  },
  {
   "cell_type": "code",
   "execution_count": 13,
   "metadata": {},
   "outputs": [],
   "source": [
    "# prior for Reg Dem vote Other\n",
    "df['D_vote_O_prior'] = 0.0128"
   ]
  },
  {
   "cell_type": "code",
   "execution_count": 14,
   "metadata": {},
   "outputs": [],
   "source": [
    "# prior for Reg Rep vote Other\n",
    "df['R_vote_O_prior'] = 0.0096"
   ]
  },
  {
   "cell_type": "code",
   "execution_count": 15,
   "metadata": {},
   "outputs": [],
   "source": [
    "# prior for Reg Other vote Other\n",
    "df['O_vote_O_prior'] = .0572"
   ]
  },
  {
   "cell_type": "code",
   "execution_count": 16,
   "metadata": {},
   "outputs": [
    {
     "data": {
      "text/plain": [
       "0    1.0\n",
       "1    1.0\n",
       "2    1.0\n",
       "3    1.0\n",
       "4    1.0\n",
       "dtype: float64"
      ]
     },
     "execution_count": 16,
     "metadata": {},
     "output_type": "execute_result"
    }
   ],
   "source": [
    "# check all priors equal 1\n",
    "prior_total = df['D_vote_D_prior'] + df['R_vote_D_prior'] + df['O_vote_D_prior'] + df['D_vote_R_prior'] + df['R_vote_R_prior'] + df['O_vote_R_prior'] + df['D_vote_O_prior'] + df['R_vote_O_prior'] + df['O_vote_O_prior'] \n",
    "prior_total[:5]"
   ]
  },
  {
   "cell_type": "code",
   "execution_count": 17,
   "metadata": {},
   "outputs": [
    {
     "data": {
      "text/plain": [
       "Index(['COUNTY', 'TOTAL_REG', 'DEM_REG', 'REP_REG', 'OTH_REG', 'TOTAL_BALLOTS',\n",
       "       'DEM_BALLOTS', 'REP_BALLOTS', 'OTHER_BALLOTS', 'DEM_VOTES', 'REP_VOTES',\n",
       "       'OTHER_VOTES', 'TOTAL_REG_NO_BALLOT', 'DEM_REG_NO_BALLOT',\n",
       "       'REP_REG_NO_BALLOT', 'OTHER_REG_NO_BALLOT', 'OTHER_VOTE_DEM',\n",
       "       'OTHER_VOTE_REP', 'OTHER_VOTE_OTHER', 'D_vote_D', 'R_vote_D',\n",
       "       'O_vote_D', 'D_vote_R', 'R_vote_R', 'O_vote_R', 'D_vote_O', 'R_vote_O',\n",
       "       'O_vote_O', 'vote_D_likelihood', 'vote_R_likelihood',\n",
       "       'vote_O_likelihood', 'D_vote_D_prior', 'R_vote_D_prior',\n",
       "       'O_vote_D_prior', 'D_vote_R_prior', 'R_vote_R_prior', 'O_vote_R_prior',\n",
       "       'D_vote_O_prior', 'R_vote_O_prior', 'O_vote_O_prior'],\n",
       "      dtype='object')"
      ]
     },
     "execution_count": 17,
     "metadata": {},
     "output_type": "execute_result"
    }
   ],
   "source": [
    "df.columns"
   ]
  },
  {
   "cell_type": "code",
   "execution_count": 18,
   "metadata": {},
   "outputs": [],
   "source": [
    "# Marg Prob for Reg Dem\n",
    "df['Marg_Prob_reg_D'] = df['DEM_REG'] / df['TOTAL_REG']"
   ]
  },
  {
   "cell_type": "code",
   "execution_count": 19,
   "metadata": {},
   "outputs": [],
   "source": [
    "# Marg Prob for Reg Rep\n",
    "df['Marg_Prob_reg_R'] = df['REP_REG'] / df['TOTAL_REG']"
   ]
  },
  {
   "cell_type": "code",
   "execution_count": 20,
   "metadata": {},
   "outputs": [],
   "source": [
    "# Marg Prob for Reg Other\n",
    "df['Marg_Prob_reg_O'] = df['OTH_REG'] / df['TOTAL_REG']"
   ]
  },
  {
   "cell_type": "code",
   "execution_count": 21,
   "metadata": {},
   "outputs": [
    {
     "data": {
      "text/plain": [
       "0     1.0\n",
       "1     1.0\n",
       "2     1.0\n",
       "3     1.0\n",
       "4     1.0\n",
       "5     1.0\n",
       "6     1.0\n",
       "7     1.0\n",
       "8     1.0\n",
       "9     1.0\n",
       "10    1.0\n",
       "11    1.0\n",
       "12    1.0\n",
       "13    1.0\n",
       "14    1.0\n",
       "15    1.0\n",
       "16    1.0\n",
       "17    1.0\n",
       "18    1.0\n",
       "19    1.0\n",
       "20    1.0\n",
       "21    1.0\n",
       "22    1.0\n",
       "23    1.0\n",
       "24    1.0\n",
       "25    1.0\n",
       "26    1.0\n",
       "27    1.0\n",
       "28    1.0\n",
       "29    1.0\n",
       "     ... \n",
       "34    1.0\n",
       "35    1.0\n",
       "36    1.0\n",
       "37    1.0\n",
       "38    1.0\n",
       "39    1.0\n",
       "40    1.0\n",
       "41    1.0\n",
       "42    1.0\n",
       "43    1.0\n",
       "44    1.0\n",
       "45    1.0\n",
       "46    1.0\n",
       "47    1.0\n",
       "48    1.0\n",
       "49    1.0\n",
       "50    1.0\n",
       "51    1.0\n",
       "52    1.0\n",
       "53    1.0\n",
       "54    1.0\n",
       "55    1.0\n",
       "56    1.0\n",
       "57    1.0\n",
       "58    1.0\n",
       "59    1.0\n",
       "60    1.0\n",
       "61    1.0\n",
       "62    1.0\n",
       "63    1.0\n",
       "Length: 64, dtype: float64"
      ]
     },
     "execution_count": 21,
     "metadata": {},
     "output_type": "execute_result"
    }
   ],
   "source": [
    "# Check if probablities each equal 1\n",
    "a = df['Marg_Prob_reg_D'] + df['Marg_Prob_reg_R'] + df['Marg_Prob_reg_O']\n",
    "a"
   ]
  },
  {
   "cell_type": "code",
   "execution_count": 22,
   "metadata": {},
   "outputs": [],
   "source": [
    "df['D_D_posterior'] = (df['vote_D_likelihood'] * df['D_vote_D_prior']) / df['Marg_Prob_reg_D']"
   ]
  },
  {
   "cell_type": "code",
   "execution_count": 23,
   "metadata": {},
   "outputs": [],
   "source": [
    "df['R_D_posterior'] = (df['vote_D_likelihood'] * df['R_vote_D_prior']) / df['Marg_Prob_reg_D']"
   ]
  },
  {
   "cell_type": "code",
   "execution_count": 24,
   "metadata": {},
   "outputs": [],
   "source": [
    "df['O_D_posterior'] = (df['vote_D_likelihood'] * df['O_vote_D_prior']) / df['Marg_Prob_reg_D']"
   ]
  },
  {
   "cell_type": "code",
   "execution_count": 25,
   "metadata": {},
   "outputs": [],
   "source": [
    "df['D_R_posterior'] = (df['vote_R_likelihood'] * df['D_vote_R_prior']) / df['Marg_Prob_reg_R']"
   ]
  },
  {
   "cell_type": "code",
   "execution_count": 26,
   "metadata": {},
   "outputs": [],
   "source": [
    "df['R_R_posterior'] = (df['vote_R_likelihood'] * df['R_vote_R_prior']) / df['Marg_Prob_reg_R']"
   ]
  },
  {
   "cell_type": "code",
   "execution_count": 27,
   "metadata": {},
   "outputs": [],
   "source": [
    "df['O_R_posterior'] = (df['vote_R_likelihood'] * df['O_vote_R_prior']) / df['Marg_Prob_reg_R']"
   ]
  },
  {
   "cell_type": "code",
   "execution_count": 28,
   "metadata": {},
   "outputs": [],
   "source": [
    "df['D_O_posterior'] = (df['vote_O_likelihood'] * df['D_vote_O_prior']) / df['Marg_Prob_reg_O']"
   ]
  },
  {
   "cell_type": "code",
   "execution_count": 29,
   "metadata": {},
   "outputs": [],
   "source": [
    "df['R_O_posterior'] = (df['vote_O_likelihood'] * df['R_vote_O_prior']) / df['Marg_Prob_reg_O']"
   ]
  },
  {
   "cell_type": "code",
   "execution_count": 30,
   "metadata": {},
   "outputs": [],
   "source": [
    "df['O_O_posterior'] = (df['vote_O_likelihood'] * df['O_vote_O_prior']) / df['Marg_Prob_reg_O']"
   ]
  },
  {
   "cell_type": "code",
   "execution_count": 31,
   "metadata": {},
   "outputs": [
    {
     "data": {
      "text/plain": [
       "Index(['COUNTY', 'TOTAL_REG', 'DEM_REG', 'REP_REG', 'OTH_REG', 'TOTAL_BALLOTS',\n",
       "       'DEM_BALLOTS', 'REP_BALLOTS', 'OTHER_BALLOTS', 'DEM_VOTES', 'REP_VOTES',\n",
       "       'OTHER_VOTES', 'TOTAL_REG_NO_BALLOT', 'DEM_REG_NO_BALLOT',\n",
       "       'REP_REG_NO_BALLOT', 'OTHER_REG_NO_BALLOT', 'OTHER_VOTE_DEM',\n",
       "       'OTHER_VOTE_REP', 'OTHER_VOTE_OTHER', 'D_vote_D', 'R_vote_D',\n",
       "       'O_vote_D', 'D_vote_R', 'R_vote_R', 'O_vote_R', 'D_vote_O', 'R_vote_O',\n",
       "       'O_vote_O', 'vote_D_likelihood', 'vote_R_likelihood',\n",
       "       'vote_O_likelihood', 'D_vote_D_prior', 'R_vote_D_prior',\n",
       "       'O_vote_D_prior', 'D_vote_R_prior', 'R_vote_R_prior', 'O_vote_R_prior',\n",
       "       'D_vote_O_prior', 'R_vote_O_prior', 'O_vote_O_prior', 'Marg_Prob_reg_D',\n",
       "       'Marg_Prob_reg_R', 'Marg_Prob_reg_O', 'D_D_posterior', 'R_D_posterior',\n",
       "       'O_D_posterior', 'D_R_posterior', 'R_R_posterior', 'O_R_posterior',\n",
       "       'D_O_posterior', 'R_O_posterior', 'O_O_posterior'],\n",
       "      dtype='object')"
      ]
     },
     "execution_count": 31,
     "metadata": {},
     "output_type": "execute_result"
    }
   ],
   "source": [
    "df.columns"
   ]
  },
  {
   "cell_type": "code",
   "execution_count": 36,
   "metadata": {},
   "outputs": [],
   "source": [
    "df['New_Dem_Voters'] = (df['D_D_posterior'] + df['R_D_posterior'] + df['O_D_posterior']) * df['TOTAL_REG_NO_BALLOT']"
   ]
  },
  {
   "cell_type": "code",
   "execution_count": 37,
   "metadata": {},
   "outputs": [],
   "source": [
    "df['New_Rep_Voters'] = (df['D_R_posterior'] + df['R_R_posterior'] + df['O_R_posterior']) * df['TOTAL_REG_NO_BALLOT']"
   ]
  },
  {
   "cell_type": "code",
   "execution_count": 38,
   "metadata": {},
   "outputs": [],
   "source": [
    "df['New_Other_Voters'] = (df['D_O_posterior'] + df['R_O_posterior'] + df['O_O_posterior']) * df['TOTAL_REG_NO_BALLOT']"
   ]
  },
  {
   "cell_type": "code",
   "execution_count": 39,
   "metadata": {},
   "outputs": [
    {
     "data": {
      "text/plain": [
       "Index(['COUNTY', 'TOTAL_REG', 'DEM_REG', 'REP_REG', 'OTH_REG', 'TOTAL_BALLOTS',\n",
       "       'DEM_BALLOTS', 'REP_BALLOTS', 'OTHER_BALLOTS', 'DEM_VOTES', 'REP_VOTES',\n",
       "       'OTHER_VOTES', 'TOTAL_REG_NO_BALLOT', 'DEM_REG_NO_BALLOT',\n",
       "       'REP_REG_NO_BALLOT', 'OTHER_REG_NO_BALLOT', 'OTHER_VOTE_DEM',\n",
       "       'OTHER_VOTE_REP', 'OTHER_VOTE_OTHER', 'D_vote_D', 'R_vote_D',\n",
       "       'O_vote_D', 'D_vote_R', 'R_vote_R', 'O_vote_R', 'D_vote_O', 'R_vote_O',\n",
       "       'O_vote_O', 'vote_D_likelihood', 'vote_R_likelihood',\n",
       "       'vote_O_likelihood', 'D_vote_D_prior', 'R_vote_D_prior',\n",
       "       'O_vote_D_prior', 'D_vote_R_prior', 'R_vote_R_prior', 'O_vote_R_prior',\n",
       "       'D_vote_O_prior', 'R_vote_O_prior', 'O_vote_O_prior', 'Marg_Prob_reg_D',\n",
       "       'Marg_Prob_reg_R', 'Marg_Prob_reg_O', 'D_D_posterior', 'R_D_posterior',\n",
       "       'O_D_posterior', 'D_R_posterior', 'R_R_posterior', 'O_R_posterior',\n",
       "       'D_O_posterior', 'R_O_posterior', 'O_O_posterior', 'New_Dem_Voters',\n",
       "       'New_Rep_Voters', 'New_Other_Voters'],\n",
       "      dtype='object')"
      ]
     },
     "execution_count": 39,
     "metadata": {},
     "output_type": "execute_result"
    }
   ],
   "source": [
    "df.columns"
   ]
  },
  {
   "cell_type": "code",
   "execution_count": 40,
   "metadata": {},
   "outputs": [],
   "source": [
    "df['New_Dem_total'] = df['DEM_VOTES'] + df['New_Dem_Voters']\n",
    "df['New_Rep_total'] = df['REP_VOTES'] + df['New_Rep_Voters']\n",
    "df['New_Other_total'] = df['OTHER_VOTES'] + df['New_Other_Voters']\n",
    "df['New_Grand_Total'] = df['New_Dem_total'] + df['New_Rep_total'] + df['New_Other_total']"
   ]
  },
  {
   "cell_type": "code",
   "execution_count": 41,
   "metadata": {},
   "outputs": [
    {
     "data": {
      "text/plain": [
       "0.46411125331218345"
      ]
     },
     "execution_count": 41,
     "metadata": {},
     "output_type": "execute_result"
    }
   ],
   "source": [
    "Dem_Election_Outcome = df['DEM_VOTES'].sum() / df['TOTAL_BALLOTS'].sum() \n",
    "Dem_Election_Outcome"
   ]
  },
  {
   "cell_type": "code",
   "execution_count": 42,
   "metadata": {},
   "outputs": [
    {
     "data": {
      "text/plain": [
       "0.4860903220063239"
      ]
     },
     "execution_count": 42,
     "metadata": {},
     "output_type": "execute_result"
    }
   ],
   "source": [
    "new_dem_percentage = (df['DEM_VOTES'].sum() + df['New_Dem_Voters'].sum()) / df['New_Grand_Total'] .sum()\n",
    "new_dem_percentage"
   ]
  },
  {
   "cell_type": "code",
   "execution_count": 43,
   "metadata": {},
   "outputs": [
    {
     "data": {
      "text/plain": [
       "0.4168338646230385"
      ]
     },
     "execution_count": 43,
     "metadata": {},
     "output_type": "execute_result"
    }
   ],
   "source": [
    "Rep_Election_Outcome = df['REP_VOTES'].sum() / df['TOTAL_BALLOTS'].sum() \n",
    "Rep_Election_Outcome"
   ]
  },
  {
   "cell_type": "code",
   "execution_count": 44,
   "metadata": {},
   "outputs": [
    {
     "data": {
      "text/plain": [
       "0.42569529713265736"
      ]
     },
     "execution_count": 44,
     "metadata": {},
     "output_type": "execute_result"
    }
   ],
   "source": [
    "new_rep_percentage = (df['REP_VOTES'].sum() + df['New_Rep_Voters'].sum()) / df['New_Grand_Total'] .sum()\n",
    "new_rep_percentage"
   ]
  },
  {
   "cell_type": "code",
   "execution_count": 45,
   "metadata": {},
   "outputs": [],
   "source": [
    "df.to_csv(\"Model_3_NEW.csv\")"
   ]
  },
  {
   "cell_type": "code",
   "execution_count": null,
   "metadata": {},
   "outputs": [],
   "source": []
  },
  {
   "cell_type": "code",
   "execution_count": null,
   "metadata": {},
   "outputs": [],
   "source": []
  },
  {
   "cell_type": "code",
   "execution_count": null,
   "metadata": {},
   "outputs": [],
   "source": []
  },
  {
   "cell_type": "code",
   "execution_count": null,
   "metadata": {},
   "outputs": [],
   "source": []
  }
 ],
 "metadata": {
  "kernelspec": {
   "display_name": "Python 3",
   "language": "python",
   "name": "python3"
  },
  "language_info": {
   "codemirror_mode": {
    "name": "ipython",
    "version": 3
   },
   "file_extension": ".py",
   "mimetype": "text/x-python",
   "name": "python",
   "nbconvert_exporter": "python",
   "pygments_lexer": "ipython3",
   "version": "3.6.5"
  }
 },
 "nbformat": 4,
 "nbformat_minor": 2
}
